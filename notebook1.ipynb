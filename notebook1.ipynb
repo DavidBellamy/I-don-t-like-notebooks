{
 "cells": [
  {
   "cell_type": "code",
   "execution_count": null,
   "metadata": {},
   "outputs": [],
   "source": [
    "import pandas as pd\n",
    "\n",
    "labrador = 0\n",
    "bert = 10\n",
    "\n",
    "def example(a: str, b: str):\n",
    "    return a * b\n",
    "\n",
    "\n",
    "\n",
    "def fibonacci():\n",
    "    a, b = 0, 1\n",
    "    while True:\n",
    "        yield a\n",
    "        a, b = b, a + b"
   ]
  }
 ],
 "metadata": {
  "language_info": {
   "name": "python"
  }
 },
 "nbformat": 4,
 "nbformat_minor": 2
}
