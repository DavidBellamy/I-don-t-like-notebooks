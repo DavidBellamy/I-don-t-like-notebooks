{
 "cells": [
  {
   "cell_type": "markdown",
   "metadata": {},
   "source": [
    "# Prep\n",
    "- Log into W&B. Going to show the COVID-Labrador fine-tuning runs & filtering on experimental parameters. These parameters were stored in a config JSON.\n",
    "- Clone Jeremy Howard's fastai repo to local and open in new VSCode window: https://github.com/fastai/fastai.git\n",
    "- Clone Transformer repo to local and open in new VSCode window: https://github.com/beamlab-hsph/lab_transformers.git\n",
    "- Open Joel Grus’ talk: first 5 minutes (up to 5:09).\n",
    "    - https://www.youtube.com/watch?v=7jiPeIFXb6U"
   ]
  },
  {
   "cell_type": "markdown",
   "metadata": {},
   "source": [
    "# Outline\n",
    "\n",
    "- Background and motivation\n",
    "- Watch the first 5 minutes of Joel Grus’ talk\n",
    "- Review good changes to notebooks since Joel's talk in 2018\n",
    "- Review bad stuff about notebooks that is still the same\n",
    "- Demo some of the powerful features of VSCode that don’t work with notebooks."
   ]
  },
  {
   "cell_type": "markdown",
   "metadata": {},
   "source": [
    "# Background\n",
    "## Motivation\n",
    "- We do a lot of programming at FL97 and only more to come. Coding is an inevitable component of standardizing and automating the work we do.\n",
    "    - In fact, I would love to be able to say that we are the most code-literate company with a wet lab.\n",
    "- Whenever we write code, we care about it ***********************actually working as expected for ourselves and for others***********************. Right?\n",
    "    - From that simple premise, I will argue that notebooks are fundamentally bad.\n",
    "    - They encourage bad habits,\n",
    "- There is a *notebook mafia* out there that has been forcing the use of notebooks in data science courses both online and on university campuses for years.\n",
    "    - This is producing more and more data scientists and machine learning practitioners who don’t know how to write good code.\n",
    "    - This causes a division in many organizations, there are the notebook users and the software engineers. The notebook users (typically with titles like “data scientist” or “machine learning scientist”) do scrappy work and then toss it over the fence to “the real engineers” once they have a finding. The real engineers are then tasked with migrating their notebooks to robust modules and scripts. In practice, this requires the engineers to re-write and re-test all of this code and often the code will not work as the notebook user expected!\n",
    "    - But we don’t like tossing things over the fence here, we know that this doesn’t work well!\n",
    "    - Notebooks are fundamentally bad for reproducibility and are therefore bad for data science or machine learning, which already suffers from reproducibility issues.\n",
    "- The list of advantages that you get by moving away from notebooks and towards modules and scripts is so long that I couldn’t even cover it in 10 hours.\n",
    "    - Instead, I chose to highlight the most widely applicable and immediately valuable features for those of you right now that would like to level up your programming.\n",
    "\n",
    "## Who am I to comment on this?\n",
    "- I went through this notebook-ridden education system! I took university courses and online classes that do all their assignments in the form of notebooks.\n",
    "- I have been a teaching assistant for classes that use notebooks and have had to correct and grade hundreds of student submissions in the form of notebooks.\n",
    "- You can view me as a survivor or someone who has made it to the other side and escaped the notebook mafia. So I’m here to tell you what it looks like from the outside. @img/chatgpt_reject.png"
   ]
  },
  {
   "cell_type": "markdown",
   "metadata": {},
   "source": [
    "# Good changes to notebooks since 2018\n",
    "- Debugger introduced in 2021\n",
    "- Copilot\n",
    "\n",
    "A good example of a notebook from Generate last month: https://colab.research.google.com/github/generatebio/chroma/blob/main/notebooks/ChromaDemo.ipynb"
   ]
  },
  {
   "cell_type": "markdown",
   "metadata": {},
   "source": [
    "# Bad stuff that is still the same\n",
    "\n",
    "* Conflate beginner-ism with bad habits:\n",
    "    * Import sorting & dependency management\n",
    "    * Less modular code → worse project directory structure.\n",
    "    * Not using 'jump to definition' or parameter hints.\n",
    "* No interactive debugger\n",
    "* Very limited refactoring tools\n",
    "    * Example. Renaming symbols\n",
    "* Version control is a mess\n",
    "* Integrated testing frameworks\n",
    "* Task automation: auto-pass in command-line arguments\n",
    "* Linters & static analysers work better in .py files than in .ipynb files."
   ]
  },
  {
   "cell_type": "markdown",
   "metadata": {},
   "source": [
    "# Feature demo\n",
    "- Refactoring tools: renaming symbols\n",
    "- The interactive debugger\n",
    "- Scripts vs. modules and making re-usable code (functions, classes, and more)"
   ]
  },
  {
   "cell_type": "code",
   "execution_count": 3,
   "metadata": {},
   "outputs": [],
   "source": [
    "import pandas as pd\n",
    "\n",
    "def fibonacci():\n",
    "    fib = [0, 1]\n",
    "    for i in range(2, 40):\n",
    "        fib.append(fib[i-1] + fib[i-2])\n",
    "    return fib"
   ]
  },
  {
   "cell_type": "code",
   "execution_count": 6,
   "metadata": {},
   "outputs": [
    {
     "data": {
      "text/plain": [
       "[0,\n",
       " 1,\n",
       " 1,\n",
       " 1,\n",
       " 2,\n",
       " 2,\n",
       " 3,\n",
       " 4,\n",
       " 5,\n",
       " 7,\n",
       " 9,\n",
       " 12,\n",
       " 16,\n",
       " 21,\n",
       " 28,\n",
       " 37,\n",
       " 49,\n",
       " 65,\n",
       " 86,\n",
       " 114,\n",
       " 151,\n",
       " 200,\n",
       " 265,\n",
       " 351,\n",
       " 465,\n",
       " 616,\n",
       " 816,\n",
       " 1081,\n",
       " 1432,\n",
       " 1897,\n",
       " 2513,\n",
       " 3329,\n",
       " 4410,\n",
       " 5842,\n",
       " 7739,\n",
       " 10252,\n",
       " 13581,\n",
       " 17991,\n",
       " 23833,\n",
       " 31572,\n",
       " 41824]"
      ]
     },
     "execution_count": 6,
     "metadata": {},
     "output_type": "execute_result"
    }
   ],
   "source": [
    "fibonacci()"
   ]
  }
 ],
 "metadata": {
  "kernelspec": {
   "display_name": "Python 3",
   "language": "python",
   "name": "python3"
  },
  "language_info": {
   "codemirror_mode": {
    "name": "ipython",
    "version": 3
   },
   "file_extension": ".py",
   "mimetype": "text/x-python",
   "name": "python",
   "nbconvert_exporter": "python",
   "pygments_lexer": "ipython3",
   "version": "3.11.6"
  }
 },
 "nbformat": 4,
 "nbformat_minor": 2
}
