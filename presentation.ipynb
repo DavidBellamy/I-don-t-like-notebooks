{
 "cells": [
  {
   "cell_type": "markdown",
   "metadata": {},
   "source": [
    "# Prep\n",
    "- Log into W&B. Going to show the COVID-Labrador fine-tuning runs & filtering on experimental parameters. These parameters were stored in a config JSON.\n",
    "- Clone Jeremy Howard's fastai repo to local and open in new VSCode window: https://github.com/fastai/fastai.git\n",
    "- Clone Transformer repo to local and open in new VSCode window: https://github.com/beamlab-hsph/lab_transformers.git\n",
    "- Open Joel Grus’ talk: first 5 minutes (up to 5:09).\n",
    "    - https://www.youtube.com/watch?v=7jiPeIFXb6U"
   ]
  },
  {
   "cell_type": "markdown",
   "metadata": {},
   "source": [
    "# Outline\n",
    "\n",
    "- The meme of notebooks\n",
    "- Watch the first 5 minutes of Joel Grus’ talk\n",
    "- Review good changes to notebooks since Joel's talk in 2018\n",
    "- Review bad stuff about notebooks that is still the same\n",
    "    - Demo some of the most powerful features of VSCode (and any equivalent IDE) that don’t work with notebooks."
   ]
  },
  {
   "cell_type": "markdown",
   "metadata": {},
   "source": [
    "# Good changes to notebooks since 2018\n",
    "- They have Copilot now."
   ]
  },
  {
   "cell_type": "markdown",
   "metadata": {},
   "source": [
    "# Bad stuff that is still the same\n",
    "\n",
    "* Encourage bad habits: \n",
    "    * Import sorting & dependency management\n",
    "    * Less modular code → worse project directory structure.\n",
    "* No interactive debugger\n",
    "* Very limited refactoring tools\n",
    "    * Example. Renaming symbols\n",
    "* Version control: notebook metadata and cell outputs are tracked by Git (no way around this). So examining differences between notebooks is not as easy as with .py files.\n",
    "* Integrated testing frameworks\n",
    "* Task automation: auto-pass in command-line arguments\n",
    "* Linters & static analysers work better in .py files than in .ipynb files."
   ]
  },
  {
   "cell_type": "markdown",
   "metadata": {},
   "source": [
    "- Scripts vs. modules and making re-usable code (functions, classes, even variables)"
   ]
  }
 ],
 "metadata": {
  "language_info": {
   "name": "python"
  }
 },
 "nbformat": 4,
 "nbformat_minor": 2
}
